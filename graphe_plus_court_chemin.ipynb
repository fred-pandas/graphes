{
 "cells": [
  {
   "cell_type": "markdown",
   "metadata": {},
   "source": [
    "<div id=\"titre\">\n",
    "<h1 style=\"color:white;\n",
    "  font-family:Comic Sans MS;\n",
    "  font-size:3em;\n",
    "  background-color:#F0573B;\n",
    "  text-align:center;\n",
    "  padding:10px\">Créer un graphe - plus court chemin </h1>\n",
    "<div style=\"font-family:Comic Sans MS; background-color:black;box-shadow: 8px 8px 0px #aaa; text-align:center; width: 50%; color:white\">SNT</div>\n",
    "</div>"
   ]
  },
  {
   "cell_type": "markdown",
   "metadata": {},
   "source": [
    "<br><b><u>Objectifs</u></b>\n",
    "<blockquote style=\"border-left: 10px solid black;background-color:#F0573B\">\n",
    "    <ul>\n",
    "        On propose le graphe suivant : \n",
    "        <br>\n",
    "        <img src='graphe.PNG'>\n",
    "        <li>Créer ce graphe en python avec le module <b>networkx</b>.</li>\n",
    "        <li>Calculer le plus court chemin entre <code>'A'</code> et <code>'E'</code>\n",
    "        </li>\n",
    "    </ul>\n",
    "</blockquote>"
   ]
  },
  {
   "cell_type": "markdown",
   "metadata": {},
   "source": [
    "<h1 style=\"color:white;background-color:black;text-align:center\"> Partie A : à partir des arêtes et noeuds</h1>"
   ]
  },
  {
   "cell_type": "code",
   "execution_count": null,
   "metadata": {},
   "outputs": [],
   "source": [
    "import networkx as nx\n",
    "import pylab as pl"
   ]
  },
  {
   "cell_type": "code",
   "execution_count": null,
   "metadata": {},
   "outputs": [],
   "source": [
    "G = nx.Graph()"
   ]
  },
  {
   "cell_type": "code",
   "execution_count": null,
   "metadata": {},
   "outputs": [],
   "source": [
    "G.add_nodes_from(['A','B','C','D','E','F'])"
   ]
  },
  {
   "cell_type": "code",
   "execution_count": null,
   "metadata": {},
   "outputs": [],
   "source": [
    "G.add_edge('A','B', poids=10)\n",
    "G.add_edge('A','F', poids=9)\n",
    "G.add_edge('B','C', poids=5)\n",
    "G.add_edge('B','D', poids=8)\n",
    "G.add_edge('B','E', poids=13)\n",
    "G.add_edge('F','E', poids=15)\n",
    "G.add_edge('F','D', poids=5)\n",
    "G.add_edge('F','C', poids=3)\n",
    "G.add_edge('D','C', poids=4)\n",
    "G.add_edge('E','D', poids=2)"
   ]
  },
  {
   "cell_type": "code",
   "execution_count": null,
   "metadata": {},
   "outputs": [],
   "source": [
    "pos = nx.spring_layout(G)\n",
    "etiquettes=nx.get_edge_attributes(G,'poids')\n",
    "\n",
    "nx.draw_networkx(G,pos)\n",
    "nx.draw_networkx_edge_labels(G,pos, edge_labels=etiquettes)\n",
    "nx.draw_networkx_edges(G, pos,width=4)\n",
    "pl.show()"
   ]
  },
  {
   "cell_type": "markdown",
   "metadata": {},
   "source": [
    "<h1 style=\"color:white;background-color:black;text-align:center\"> Partie B : à partir d'un fichier csv</h1>"
   ]
  },
  {
   "cell_type": "code",
   "execution_count": null,
   "metadata": {},
   "outputs": [],
   "source": [
    "import pandas"
   ]
  },
  {
   "cell_type": "code",
   "execution_count": null,
   "metadata": {},
   "outputs": [],
   "source": [
    "T = pandas.read_csv('graphe.csv')\n",
    "T"
   ]
  },
  {
   "cell_type": "code",
   "execution_count": null,
   "metadata": {},
   "outputs": [],
   "source": [
    "G = nx.from_pandas_edgelist(T,\n",
    "                            source = 'sommet u',\n",
    "                            target = 'sommet v',\n",
    "                            edge_attr = 'poids')"
   ]
  },
  {
   "cell_type": "code",
   "execution_count": null,
   "metadata": {},
   "outputs": [],
   "source": [
    "pos = nx.spring_layout(G)\n",
    "etiquettes=nx.get_edge_attributes(G,'poids')\n",
    "nx.draw_networkx(G,pos)\n",
    "nx.draw_networkx_edge_labels(G,pos, edge_labels=etiquettes)\n",
    "nx.draw_networkx_edges(G, pos,width=4)\n",
    "pl.show()"
   ]
  },
  {
   "cell_type": "markdown",
   "metadata": {},
   "source": [
    "<h1 style=\"color:white;background-color:black;text-align:center\"> Partie C : plus court chemin entre A et E</h1>"
   ]
  },
  {
   "cell_type": "code",
   "execution_count": null,
   "metadata": {},
   "outputs": [],
   "source": [
    "noeuds = nx.shortest_path(G,source='A',target='E',weight='poids')\n",
    "noeuds"
   ]
  },
  {
   "cell_type": "code",
   "execution_count": null,
   "metadata": {},
   "outputs": [],
   "source": [
    "nx.shortest_path_length(G,source='A',target='E',weight='poids')"
   ]
  },
  {
   "cell_type": "code",
   "execution_count": null,
   "metadata": {},
   "outputs": [],
   "source": [
    "aretes = [(noeuds[k],noeuds[k+1]) for k in range(len(noeuds)-1)]\n",
    "aretes"
   ]
  },
  {
   "cell_type": "code",
   "execution_count": null,
   "metadata": {},
   "outputs": [],
   "source": [
    "node_col = ['orange' if node in noeuds else 'yellow' for node in G.nodes()]\n",
    "edge_col = ['red' if edge in aretes else 'black' for edge in G.edges()]\n",
    "\n",
    "nx.draw_networkx(G,pos,node_color= node_col)\n",
    "nx.draw_networkx_edge_labels(G,pos,edge_color= edge_col, edge_labels=etiquettes)\n",
    "nx.draw_networkx_edges(G, pos,edge_color= edge_col,width=4)\n",
    "pl.show()"
   ]
  },
  {
   "cell_type": "code",
   "execution_count": null,
   "metadata": {},
   "outputs": [],
   "source": []
  }
 ],
 "metadata": {
  "kernelspec": {
   "display_name": "Python 3",
   "language": "python",
   "name": "python3"
  },
  "language_info": {
   "codemirror_mode": {
    "name": "ipython",
    "version": 3
   },
   "file_extension": ".py",
   "mimetype": "text/x-python",
   "name": "python",
   "nbconvert_exporter": "python",
   "pygments_lexer": "ipython3",
   "version": "3.7.1"
  }
 },
 "nbformat": 4,
 "nbformat_minor": 2
}
